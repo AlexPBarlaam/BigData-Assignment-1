{
 "cells": [
  {
   "cell_type": "code",
   "execution_count": 35,
   "id": "290247e6",
   "metadata": {},
   "outputs": [
    {
     "name": "stdout",
     "output_type": "stream",
     "text": [
      "+------+--------------------+--------------------+---------------------+--------------------+------------------+------------------+------------------+------------------+------------------+------------------+------------------+------------------+\n",
      "|Status|Power_range_sensor_1|Power_range_sensor_2|Power_range_sensor_3 |Power_range_sensor_4|Pressure _sensor_1|Pressure _sensor_2|Pressure _sensor_3|Pressure _sensor_4|Vibration_sensor_1|Vibration_sensor_2|Vibration_sensor_3|Vibration_sensor_4|\n",
      "+------+--------------------+--------------------+---------------------+--------------------+------------------+------------------+------------------+------------------+------------------+------------------+------------------+------------------+\n",
      "|Normal|              4.5044|              0.7443|                 6.34|              1.9052|           29.5315|            0.8647|            2.2044|             6.048|           14.4659|            21.648|           15.3429|            1.2186|\n",
      "|Normal|              4.4284|              0.9073|               5.6433|              1.6232|           27.5032|            1.4704|            1.9929|            5.9856|           20.8356|            0.0646|           14.8813|            7.3483|\n",
      "|Normal|              4.5291|              1.0199|                6.113|              1.0565|           26.4271|            1.9247|             1.942|            6.7162|            5.3358|           11.0779|           25.0914|            9.2408|\n",
      "|Normal|              5.1727|              1.0007|               7.8589|              0.2765|           25.1576|             2.609|            2.9234|            6.7485|            1.9017|            1.8463|            28.664|            4.0157|\n",
      "|Normal|              5.2258|              0.6125|               7.9504|              0.1547|           24.0765|            3.2113|            4.4563|            5.8411|            0.5077|              9.37|           34.8122|           13.4966|\n",
      "|Normal|              4.8834|              0.5786|               5.6021|              0.5942|           21.0365|            2.6275|            4.3996|            5.3487|            3.6465|            9.3793|           36.2431|            11.124|\n",
      "|Normal|              5.7422|              0.8862|               5.1013|              0.9402|           15.5171|              2.92|            2.7061|            5.0366|            9.1854|            9.1116|           27.3162|            2.8526|\n",
      "|Normal|              6.5076|              0.5438|                7.153|              0.6711|           11.1481|            4.2967|            3.5731|            4.6123|           14.7705|            8.0038|           24.9714|            2.1417|\n",
      "|Normal|               5.625|              0.0403|               7.7087|              0.3214|            8.7975|            2.3293|             4.788|             5.203|            4.3388|            2.4187|           20.9187|            2.1233|\n",
      "|Normal|              4.9942|              0.4092|               6.2604|              0.6931|             6.189|            0.1537|            2.4934|            5.6573|            9.8132|           13.3581|           23.5036|            0.7478|\n",
      "+------+--------------------+--------------------+---------------------+--------------------+------------------+------------------+------------------+------------------+------------------+------------------+------------------+------------------+\n",
      "only showing top 10 rows\n",
      "\n",
      "root\n",
      " |-- Status: string (nullable = true)\n",
      " |-- Power_range_sensor_1: double (nullable = true)\n",
      " |-- Power_range_sensor_2: double (nullable = true)\n",
      " |-- Power_range_sensor_3 : double (nullable = true)\n",
      " |-- Power_range_sensor_4: double (nullable = true)\n",
      " |-- Pressure _sensor_1: double (nullable = true)\n",
      " |-- Pressure _sensor_2: double (nullable = true)\n",
      " |-- Pressure _sensor_3: double (nullable = true)\n",
      " |-- Pressure _sensor_4: double (nullable = true)\n",
      " |-- Vibration_sensor_1: double (nullable = true)\n",
      " |-- Vibration_sensor_2: double (nullable = true)\n",
      " |-- Vibration_sensor_3: double (nullable = true)\n",
      " |-- Vibration_sensor_4: double (nullable = true)\n",
      "\n"
     ]
    }
   ],
   "source": [
    "import findspark\n",
    "findspark.init()\n",
    "\n",
    "import pyspark\n",
    "from pyspark.sql import SparkSession\n",
    "spark = SparkSession.builder.getOrCreate()\n",
    "\n",
    "nPS = spark.read.options(header='True', inferSchema='True').csv(\"nuclear_plants_small_dataset.csv\")\n",
    "nPS.show(10)\n",
    "nPS.printSchema()"
   ]
  },
  {
   "cell_type": "code",
   "execution_count": 36,
   "id": "8f0736da",
   "metadata": {},
   "outputs": [
    {
     "name": "stdout",
     "output_type": "stream",
     "text": [
      "column 1 has 0 null values\n",
      "column 2 has 0 null values\n",
      "column 3 has 0 null values\n",
      "column 4 has 0 null values\n",
      "column 5 has 0 null values\n",
      "column 6 has 0 null values\n",
      "column 7 has 0 null values\n",
      "column 8 has 0 null values\n",
      "column 9 has 0 null values\n",
      "column 10 has 0 null values\n",
      "column 11 has 0 null values\n",
      "column 12 has 0 null values\n",
      "column 13 has 0 null values\n"
     ]
    }
   ],
   "source": [
    "#Task 1 - Missing Datasets\n",
    "for i in range(13):\n",
    "    value = nPS.where(nPS[nPS.schema[i].name].isNull()).count() \n",
    "    print('column {0:0d} has {1:0} null values' .format(i + 1, value))"
   ]
  },
  {
   "cell_type": "code",
   "execution_count": 37,
   "id": "5be1a846",
   "metadata": {},
   "outputs": [
    {
     "name": "stdout",
     "output_type": "stream",
     "text": [
      "Power_range_sensor_1\n",
      "+--------+-------------------------+-------------------------+--------------------------+----------------------------+-------------------------------------+\n",
      "|Status  |min(Power_range_sensor_1)|max(Power_range_sensor_1)|mean(Power_range_sensor_1)|median(Power_range_sensor_1)|variance_values(Power_range_sensor_1)|\n",
      "+--------+-------------------------+-------------------------+--------------------------+----------------------------+-------------------------------------+\n",
      "|Abnormal|0.0082                   |10.923078                |4.396694975903612         |4.5053                      |6.201490118793131                    |\n",
      "|Normal  |0.0851                   |12.1298                  |5.602452811244976         |5.1727                      |8.374354492436746                    |\n",
      "+--------+-------------------------+-------------------------+--------------------------+----------------------------+-------------------------------------+\n",
      "\n",
      "Power_range_sensor_2\n",
      "+--------+-------------------------+-------------------------+--------------------------+----------------------------+-------------------------------------+\n",
      "|Status  |min(Power_range_sensor_2)|max(Power_range_sensor_2)|mean(Power_range_sensor_2)|median(Power_range_sensor_2)|variance_values(Power_range_sensor_2)|\n",
      "+--------+-------------------------+-------------------------+--------------------------+----------------------------+-------------------------------------+\n",
      "|Abnormal|0.3891                   |10.1541                  |5.914042891566265         |5.929872                    |5.392428867311033                    |\n",
      "|Normal  |0.0403                   |11.9284                  |6.844503413654616         |6.6998                      |4.880531200853515                    |\n",
      "+--------+-------------------------+-------------------------+--------------------------+----------------------------+-------------------------------------+\n",
      "\n",
      "Power_range_sensor_3 \n",
      "+--------+--------------------------+--------------------------+---------------------------+-----------------------------+--------------------------------------+\n",
      "|Status  |min(Power_range_sensor_3 )|max(Power_range_sensor_3 )|mean(Power_range_sensor_3 )|median(Power_range_sensor_3 )|variance_values(Power_range_sensor_3 )|\n",
      "+--------+--------------------------+--------------------------+---------------------------+-----------------------------+--------------------------------------+\n",
      "|Abnormal|2.583966                  |15.7599                   |9.164170212851408          |9.4666                       |8.654818018354874                     |\n",
      "|Normal  |4.3826                    |14.0982                   |9.292054016064245          |9.2624                       |4.173688700195111                     |\n",
      "+--------+--------------------------+--------------------------+---------------------------+-----------------------------+--------------------------------------+\n",
      "\n",
      "Power_range_sensor_4\n",
      "+--------+-------------------------+-------------------------+--------------------------+----------------------------+-------------------------------------+\n",
      "|Status  |min(Power_range_sensor_4)|max(Power_range_sensor_4)|mean(Power_range_sensor_4)|median(Power_range_sensor_4)|variance_values(Power_range_sensor_4)|\n",
      "+--------+-------------------------+-------------------------+--------------------------+----------------------------+-------------------------------------+\n",
      "|Abnormal|0.0623                   |17.235858                |6.00914597991968          |5.3952                      |14.280946623673312                   |\n",
      "|Normal  |0.1547                   |16.3568                  |8.701398192771098         |9.2404                      |20.053993554020884                   |\n",
      "+--------+-------------------------+-------------------------+--------------------------+----------------------------+-------------------------------------+\n",
      "\n",
      "Pressure _sensor_1\n",
      "+--------+-----------------------+-----------------------+------------------------+--------------------------+-----------------------------------+\n",
      "|Status  |min(Pressure _sensor_1)|max(Pressure _sensor_1)|mean(Pressure _sensor_1)|median(Pressure _sensor_1)|variance_values(Pressure _sensor_1)|\n",
      "+--------+-----------------------+-----------------------+------------------------+--------------------------+-----------------------------------+\n",
      "|Abnormal|0.131478               |67.9794                |14.600728132530124      |12.5912                   |134.42562444441973                 |\n",
      "|Normal  |0.0248                 |56.8562                |13.797525502008051      |10.6274                   |138.37257347272865                 |\n",
      "+--------+-----------------------+-----------------------+------------------------+--------------------------+-----------------------------------+\n",
      "\n",
      "Pressure _sensor_2\n",
      "+--------+-----------------------+-----------------------+------------------------+--------------------------+-----------------------------------+\n",
      "|Status  |min(Pressure _sensor_2)|max(Pressure _sensor_2)|mean(Pressure _sensor_2)|median(Pressure _sensor_2)|variance_values(Pressure _sensor_2)|\n",
      "+--------+-----------------------+-----------------------+------------------------+--------------------------+-----------------------------------+\n",
      "|Abnormal|0.008262               |10.242738              |2.7402695381526083      |2.380578                  |4.014421746820416                  |\n",
      "|Normal  |0.0104                 |9.2212                 |3.4156463855421695      |3.113                     |4.806673026314872                  |\n",
      "+--------+-----------------------+-----------------------+------------------------+--------------------------+-----------------------------------+\n",
      "\n",
      "Pressure _sensor_3\n",
      "+--------+-----------------------+-----------------------+------------------------+--------------------------+-----------------------------------+\n",
      "|Status  |min(Pressure _sensor_3)|max(Pressure _sensor_3)|mean(Pressure _sensor_3)|median(Pressure _sensor_3)|variance_values(Pressure _sensor_3)|\n",
      "+--------+-----------------------+-----------------------+------------------------+--------------------------+-----------------------------------+\n",
      "|Abnormal|0.001224               |11.7724                |5.5751150803212814      |5.743314                  |6.215756717729965                  |\n",
      "|Normal  |0.0774                 |12.6475                |5.923352610441759       |5.7394                    |6.499049116421752                  |\n",
      "+--------+-----------------------+-----------------------+------------------------+--------------------------+-----------------------------------+\n",
      "\n",
      "Pressure _sensor_4\n",
      "+--------+-----------------------+-----------------------+------------------------+--------------------------+-----------------------------------+\n",
      "|Status  |min(Pressure _sensor_4)|max(Pressure _sensor_4)|mean(Pressure _sensor_4)|median(Pressure _sensor_4)|variance_values(Pressure _sensor_4)|\n",
      "+--------+-----------------------+-----------------------+------------------------+--------------------------+-----------------------------------+\n",
      "|Abnormal|0.029478               |16.55562               |4.40782413253012        |3.3072                    |15.669184817711217                 |\n",
      "|Normal  |0.0058                 |15.1085                |5.586180120481923       |4.2574                    |18.37268188992595                  |\n",
      "+--------+-----------------------+-----------------------+------------------------+--------------------------+-----------------------------------+\n",
      "\n",
      "Vibration_sensor_1\n",
      "+--------+-----------------------+-----------------------+------------------------+--------------------------+-----------------------------------+\n",
      "|Status  |min(Vibration_sensor_1)|max(Vibration_sensor_1)|mean(Vibration_sensor_1)|median(Vibration_sensor_1)|variance_values(Vibration_sensor_1)|\n",
      "+--------+-----------------------+-----------------------+------------------------+--------------------------+-----------------------------------+\n",
      "|Abnormal|0.0                    |36.186438              |7.887688803212859       |6.5175                    |37.61341588622746                  |\n",
      "|Normal  |0.0092                 |31.4981                |8.441436947791166       |7.4222                    |38.52794801577502                  |\n",
      "+--------+-----------------------+-----------------------+------------------------+--------------------------+-----------------------------------+\n",
      "\n",
      "Vibration_sensor_2\n"
     ]
    },
    {
     "name": "stdout",
     "output_type": "stream",
     "text": [
      "+--------+-----------------------+-----------------------+------------------------+--------------------------+-----------------------------------+\n",
      "|Status  |min(Vibration_sensor_2)|max(Vibration_sensor_2)|mean(Vibration_sensor_2)|median(Vibration_sensor_2)|variance_values(Vibration_sensor_2)|\n",
      "+--------+-----------------------+-----------------------+------------------------+--------------------------+-----------------------------------+\n",
      "|Abnormal|0.0185                 |34.331466              |10.303569907630527      |8.9085                    |58.50550622001145                  |\n",
      "|Normal  |0.0277                 |34.8676                |9.699615863453822       |8.6684                    |49.060657006045574                 |\n",
      "+--------+-----------------------+-----------------------+------------------------+--------------------------+-----------------------------------+\n",
      "\n",
      "Vibration_sensor_3\n",
      "+--------+-----------------------+-----------------------+------------------------+--------------------------+-----------------------------------+\n",
      "|Status  |min(Vibration_sensor_3)|max(Vibration_sensor_3)|mean(Vibration_sensor_3)|median(Vibration_sensor_3)|variance_values(Vibration_sensor_3)|\n",
      "+--------+-----------------------+-----------------------+------------------------+--------------------------+-----------------------------------+\n",
      "|Abnormal|0.131784               |36.911454              |10.93815894779115       |8.983038                  |66.679536241711                    |\n",
      "|Normal  |0.0646                 |53.2384                |19.437804417670666      |16.4414                   |193.13624276565452                 |\n",
      "+--------+-----------------------+-----------------------+------------------------+--------------------------+-----------------------------------+\n",
      "\n",
      "Vibration_sensor_4\n",
      "+--------+-----------------------+-----------------------+------------------------+--------------------------+-----------------------------------+\n",
      "|Status  |min(Vibration_sensor_4)|max(Vibration_sensor_4)|mean(Vibration_sensor_4)|median(Vibration_sensor_4)|variance_values(Vibration_sensor_4)|\n",
      "+--------+-----------------------+-----------------------+------------------------+--------------------------+-----------------------------------+\n",
      "|Abnormal|0.0092                 |26.4669                |8.9420846746988         |8.1145                    |36.89342263539999                  |\n",
      "|Normal  |0.0831                 |43.2314                |10.925097590361439      |9.4347                    |67.3093714686461                   |\n",
      "+--------+-----------------------+-----------------------+------------------------+--------------------------+-----------------------------------+\n",
      "\n"
     ]
    }
   ],
   "source": [
    "from pyspark.sql.functions import min,max,mean,percentile_approx,variance,count\n",
    "import matplotlib\n",
    "import pandas as pd\n",
    "\n",
    "#Task 2 - Summary Statistics & Box Plots\n",
    "\n",
    "for i in range(1, 13):\n",
    "    column = nPS.schema[i].name\n",
    "    print(column)\n",
    "    Vals = nPS.groupBy(\"Status\")\\\n",
    "    .agg(min(column),\\\n",
    "         max(column),\\\n",
    "         mean(column).alias(\"mean({0})\".format(column)),\\\n",
    "         percentile_approx(column, 0.5).alias(\"median({0})\".format(column)),\\\n",
    "         variance(column).alias(\"variance_values({0})\".format(column)),\\\n",
    "        ).show(truncate=False)    "
   ]
  },
  {
   "cell_type": "code",
   "execution_count": 38,
   "id": "bbcbd62a",
   "metadata": {
    "scrolled": true
   },
   "outputs": [
    {
     "data": {
      "text/html": [
       "<div>\n",
       "<style scoped>\n",
       "    .dataframe tbody tr th:only-of-type {\n",
       "        vertical-align: middle;\n",
       "    }\n",
       "\n",
       "    .dataframe tbody tr th {\n",
       "        vertical-align: top;\n",
       "    }\n",
       "\n",
       "    .dataframe thead th {\n",
       "        text-align: right;\n",
       "    }\n",
       "</style>\n",
       "<table border=\"1\" class=\"dataframe\">\n",
       "  <thead>\n",
       "    <tr style=\"text-align: right;\">\n",
       "      <th></th>\n",
       "      <th>Status</th>\n",
       "      <th>Power_range_sensor_1</th>\n",
       "      <th>Power_range_sensor_2</th>\n",
       "      <th>Power_range_sensor_3</th>\n",
       "      <th>Power_range_sensor_4</th>\n",
       "      <th>Pressure _sensor_1</th>\n",
       "      <th>Pressure _sensor_2</th>\n",
       "      <th>Pressure _sensor_3</th>\n",
       "      <th>Pressure _sensor_4</th>\n",
       "      <th>Vibration_sensor_1</th>\n",
       "      <th>Vibration_sensor_2</th>\n",
       "      <th>Vibration_sensor_3</th>\n",
       "      <th>Vibration_sensor_4</th>\n",
       "    </tr>\n",
       "  </thead>\n",
       "  <tbody>\n",
       "    <tr>\n",
       "      <th>0</th>\n",
       "      <td>Normal</td>\n",
       "      <td>4.5044</td>\n",
       "      <td>0.7443</td>\n",
       "      <td>6.3400</td>\n",
       "      <td>1.9052</td>\n",
       "      <td>29.5315</td>\n",
       "      <td>0.8647</td>\n",
       "      <td>2.2044</td>\n",
       "      <td>6.0480</td>\n",
       "      <td>14.4659</td>\n",
       "      <td>21.6480</td>\n",
       "      <td>15.3429</td>\n",
       "      <td>1.2186</td>\n",
       "    </tr>\n",
       "    <tr>\n",
       "      <th>1</th>\n",
       "      <td>Normal</td>\n",
       "      <td>4.4284</td>\n",
       "      <td>0.9073</td>\n",
       "      <td>5.6433</td>\n",
       "      <td>1.6232</td>\n",
       "      <td>27.5032</td>\n",
       "      <td>1.4704</td>\n",
       "      <td>1.9929</td>\n",
       "      <td>5.9856</td>\n",
       "      <td>20.8356</td>\n",
       "      <td>0.0646</td>\n",
       "      <td>14.8813</td>\n",
       "      <td>7.3483</td>\n",
       "    </tr>\n",
       "    <tr>\n",
       "      <th>2</th>\n",
       "      <td>Normal</td>\n",
       "      <td>4.5291</td>\n",
       "      <td>1.0199</td>\n",
       "      <td>6.1130</td>\n",
       "      <td>1.0565</td>\n",
       "      <td>26.4271</td>\n",
       "      <td>1.9247</td>\n",
       "      <td>1.9420</td>\n",
       "      <td>6.7162</td>\n",
       "      <td>5.3358</td>\n",
       "      <td>11.0779</td>\n",
       "      <td>25.0914</td>\n",
       "      <td>9.2408</td>\n",
       "    </tr>\n",
       "    <tr>\n",
       "      <th>3</th>\n",
       "      <td>Normal</td>\n",
       "      <td>5.1727</td>\n",
       "      <td>1.0007</td>\n",
       "      <td>7.8589</td>\n",
       "      <td>0.2765</td>\n",
       "      <td>25.1576</td>\n",
       "      <td>2.6090</td>\n",
       "      <td>2.9234</td>\n",
       "      <td>6.7485</td>\n",
       "      <td>1.9017</td>\n",
       "      <td>1.8463</td>\n",
       "      <td>28.6640</td>\n",
       "      <td>4.0157</td>\n",
       "    </tr>\n",
       "    <tr>\n",
       "      <th>4</th>\n",
       "      <td>Normal</td>\n",
       "      <td>5.2258</td>\n",
       "      <td>0.6125</td>\n",
       "      <td>7.9504</td>\n",
       "      <td>0.1547</td>\n",
       "      <td>24.0765</td>\n",
       "      <td>3.2113</td>\n",
       "      <td>4.4563</td>\n",
       "      <td>5.8411</td>\n",
       "      <td>0.5077</td>\n",
       "      <td>9.3700</td>\n",
       "      <td>34.8122</td>\n",
       "      <td>13.4966</td>\n",
       "    </tr>\n",
       "  </tbody>\n",
       "</table>\n",
       "</div>"
      ],
      "text/plain": [
       "   Status  Power_range_sensor_1  Power_range_sensor_2  Power_range_sensor_3   \\\n",
       "0  Normal                4.5044                0.7443                 6.3400   \n",
       "1  Normal                4.4284                0.9073                 5.6433   \n",
       "2  Normal                4.5291                1.0199                 6.1130   \n",
       "3  Normal                5.1727                1.0007                 7.8589   \n",
       "4  Normal                5.2258                0.6125                 7.9504   \n",
       "\n",
       "   Power_range_sensor_4  Pressure _sensor_1  Pressure _sensor_2  \\\n",
       "0                1.9052             29.5315              0.8647   \n",
       "1                1.6232             27.5032              1.4704   \n",
       "2                1.0565             26.4271              1.9247   \n",
       "3                0.2765             25.1576              2.6090   \n",
       "4                0.1547             24.0765              3.2113   \n",
       "\n",
       "   Pressure _sensor_3  Pressure _sensor_4  Vibration_sensor_1  \\\n",
       "0              2.2044              6.0480             14.4659   \n",
       "1              1.9929              5.9856             20.8356   \n",
       "2              1.9420              6.7162              5.3358   \n",
       "3              2.9234              6.7485              1.9017   \n",
       "4              4.4563              5.8411              0.5077   \n",
       "\n",
       "   Vibration_sensor_2  Vibration_sensor_3  Vibration_sensor_4  \n",
       "0             21.6480             15.3429              1.2186  \n",
       "1              0.0646             14.8813              7.3483  \n",
       "2             11.0779             25.0914              9.2408  \n",
       "3              1.8463             28.6640              4.0157  \n",
       "4              9.3700             34.8122             13.4966  "
      ]
     },
     "execution_count": 38,
     "metadata": {},
     "output_type": "execute_result"
    }
   ],
   "source": [
    "nPS_pd = nPS.toPandas()\n",
    "nPS_pd.head()"
   ]
  },
  {
   "cell_type": "code",
   "execution_count": 59,
   "id": "37be748b",
   "metadata": {},
   "outputs": [
    {
     "data": {
      "text/plain": [
       "<AxesSubplot:title={'center':'Vibration_sensor_4'}, xlabel='Status'>"
      ]
     },
     "execution_count": 59,
     "metadata": {},
     "output_type": "execute_result"
    },
    {
     "data": {
      "image/png": "[encoded data removed]",
      "text/plain": [
       "<Figure size 432x288 with 1 Axes>"
      ]
     },
     "metadata": {
      "needs_background": "light"
     },
     "output_type": "display_data"
    },
    {
     "data": {
      "image/png": "[encoded data removed]",
      "text/plain": [
       "<Figure size 432x288 with 1 Axes>"
      ]
     },
     "metadata": {
      "needs_background": "light"
     },
     "output_type": "display_data"
    },
    {
     "data": {
      "image/png": "[encoded data removed]",
      "text/plain": [
       "<Figure size 432x288 with 1 Axes>"
      ]
     },
     "metadata": {
      "needs_background": "light"
     },
     "output_type": "display_data"
    },
    {
     "data": {
      "image/png": "[encoded data removed]",
      "text/plain": [
       "<Figure size 432x288 with 1 Axes>"
      ]
     },
     "metadata": {
      "needs_background": "light"
     },
     "output_type": "display_data"
    },
    {
     "data": {
      "image/png": "[encoded data removed]",
      "text/plain": [
       "<Figure size 432x288 with 1 Axes>"
      ]
     },
     "metadata": {
      "needs_background": "light"
     },
     "output_type": "display_data"
    },
    {
     "data": {
      "image/png": "[encoded data removed]",
      "text/plain": [
       "<Figure size 432x288 with 1 Axes>"
      ]
     },
     "metadata": {
      "needs_background": "light"
     },
     "output_type": "display_data"
    },
    {
     "data": {
      "image/png": "[encoded data removed]",
      "text/plain": [
       "<Figure size 432x288 with 1 Axes>"
      ]
     },
     "metadata": {
      "needs_background": "light"
     },
     "output_type": "display_data"
    },
    {
     "data": {
      "image/png": "[encoded data removed]",
      "text/plain": [
       "<Figure size 432x288 with 1 Axes>"
      ]
     },
     "metadata": {
      "needs_background": "light"
     },
     "output_type": "display_data"
    },
    {
     "data": {
      "image/png": "[encoded data removed]",
      "text/plain": [
       "<Figure size 432x288 with 1 Axes>"
      ]
     },
     "metadata": {
      "needs_background": "light"
     },
     "output_type": "display_data"
    },
    {
     "data": {
      "image/png": "[encoded data removed]",
      "text/plain": [
       "<Figure size 432x288 with 1 Axes>"
      ]
     },
     "metadata": {
      "needs_background": "light"
     },
     "output_type": "display_data"
    },
    {
     "data": {
      "image/png": "[encoded data removed]",
      "text/plain": [
       "<Figure size 432x288 with 1 Axes>"
      ]
     },
     "metadata": {
      "needs_background": "light"
     },
     "output_type": "display_data"
    },
    {
     "data": {
      "image/png": "[encoded data removed]",
      "text/plain": [
       "<Figure size 432x288 with 1 Axes>"
      ]
     },
     "metadata": {
      "needs_background": "light"
     },
     "output_type": "display_data"
    }
   ],
   "source": [
    "nPS_pd.boxplot(by='Status', column=['Power_range_sensor_1'])\n",
    "nPS_pd.boxplot(by='Status', column=['Power_range_sensor_2'])\n",
    "nPS_pd.boxplot(by='Status', column=['Power_range_sensor_3 '])\n",
    "nPS_pd.boxplot(by='Status', column=['Power_range_sensor_4'])\n",
    "nPS_pd.boxplot(by='Status', column=['Pressure _sensor_1'])\n",
    "nPS_pd.boxplot(by='Status', column=['Pressure _sensor_2'])\n",
    "nPS_pd.boxplot(by='Status', column=['Pressure _sensor_3'])\n",
    "nPS_pd.boxplot(by='Status', column=['Pressure _sensor_4'])\n",
    "nPS_pd.boxplot(by='Status', column=['Vibration_sensor_1'])\n",
    "nPS_pd.boxplot(by='Status', column=['Vibration_sensor_2'])\n",
    "nPS_pd.boxplot(by='Status', column=['Vibration_sensor_3'])\n",
    "nPS_pd.boxplot(by='Status', column=['Vibration_sensor_4'])"
   ]
  },
  {
   "cell_type": "code",
   "execution_count": 61,
   "id": "a36f656f",
   "metadata": {},
   "outputs": [
    {
     "data": {
      "text/html": [
       "<div>\n",
       "<style scoped>\n",
       "    .dataframe tbody tr th:only-of-type {\n",
       "        vertical-align: middle;\n",
       "    }\n",
       "\n",
       "    .dataframe tbody tr th {\n",
       "        vertical-align: top;\n",
       "    }\n",
       "\n",
       "    .dataframe thead th {\n",
       "        text-align: right;\n",
       "    }\n",
       "</style>\n",
       "<table border=\"1\" class=\"dataframe\">\n",
       "  <thead>\n",
       "    <tr style=\"text-align: right;\">\n",
       "      <th></th>\n",
       "      <th>Power_range_sensor_1</th>\n",
       "      <th>Power_range_sensor_2</th>\n",
       "      <th>Power_range_sensor_3</th>\n",
       "      <th>Power_range_sensor_4</th>\n",
       "      <th>Pressure _sensor_1</th>\n",
       "      <th>Pressure _sensor_2</th>\n",
       "      <th>Pressure _sensor_3</th>\n",
       "      <th>Pressure _sensor_4</th>\n",
       "      <th>Vibration_sensor_1</th>\n",
       "      <th>Vibration_sensor_2</th>\n",
       "      <th>Vibration_sensor_3</th>\n",
       "      <th>Vibration_sensor_4</th>\n",
       "    </tr>\n",
       "  </thead>\n",
       "  <tbody>\n",
       "    <tr>\n",
       "      <th>Power_range_sensor_1</th>\n",
       "      <td>1.000000</td>\n",
       "      <td>0.095235</td>\n",
       "      <td>0.229943</td>\n",
       "      <td>0.499795</td>\n",
       "      <td>0.047805</td>\n",
       "      <td>0.652081</td>\n",
       "      <td>0.199811</td>\n",
       "      <td>0.406382</td>\n",
       "      <td>-0.152247</td>\n",
       "      <td>-0.003684</td>\n",
       "      <td>0.106583</td>\n",
       "      <td>0.014177</td>\n",
       "    </tr>\n",
       "    <tr>\n",
       "      <th>Power_range_sensor_2</th>\n",
       "      <td>0.095235</td>\n",
       "      <td>1.000000</td>\n",
       "      <td>0.693818</td>\n",
       "      <td>0.228438</td>\n",
       "      <td>-0.222160</td>\n",
       "      <td>0.112438</td>\n",
       "      <td>0.583086</td>\n",
       "      <td>0.136380</td>\n",
       "      <td>-0.119142</td>\n",
       "      <td>0.011013</td>\n",
       "      <td>0.243242</td>\n",
       "      <td>0.058244</td>\n",
       "    </tr>\n",
       "    <tr>\n",
       "      <th>Power_range_sensor_3</th>\n",
       "      <td>0.229943</td>\n",
       "      <td>0.693818</td>\n",
       "      <td>1.000000</td>\n",
       "      <td>0.083362</td>\n",
       "      <td>-0.255865</td>\n",
       "      <td>0.166549</td>\n",
       "      <td>0.362688</td>\n",
       "      <td>0.062479</td>\n",
       "      <td>-0.249057</td>\n",
       "      <td>-0.038320</td>\n",
       "      <td>0.215811</td>\n",
       "      <td>-0.023962</td>\n",
       "    </tr>\n",
       "    <tr>\n",
       "      <th>Power_range_sensor_4</th>\n",
       "      <td>0.499795</td>\n",
       "      <td>0.228438</td>\n",
       "      <td>0.083362</td>\n",
       "      <td>1.000000</td>\n",
       "      <td>0.150635</td>\n",
       "      <td>0.567705</td>\n",
       "      <td>-0.070547</td>\n",
       "      <td>0.823637</td>\n",
       "      <td>-0.114117</td>\n",
       "      <td>0.043383</td>\n",
       "      <td>0.330499</td>\n",
       "      <td>-0.018193</td>\n",
       "    </tr>\n",
       "    <tr>\n",
       "      <th>Pressure _sensor_1</th>\n",
       "      <td>0.047805</td>\n",
       "      <td>-0.222160</td>\n",
       "      <td>-0.255865</td>\n",
       "      <td>0.150635</td>\n",
       "      <td>1.000000</td>\n",
       "      <td>0.116859</td>\n",
       "      <td>-0.118713</td>\n",
       "      <td>0.131136</td>\n",
       "      <td>0.101438</td>\n",
       "      <td>-0.035196</td>\n",
       "      <td>-0.084575</td>\n",
       "      <td>-0.125128</td>\n",
       "    </tr>\n",
       "    <tr>\n",
       "      <th>Pressure _sensor_2</th>\n",
       "      <td>0.652081</td>\n",
       "      <td>0.112438</td>\n",
       "      <td>0.166549</td>\n",
       "      <td>0.567705</td>\n",
       "      <td>0.116859</td>\n",
       "      <td>1.000000</td>\n",
       "      <td>0.091341</td>\n",
       "      <td>0.571403</td>\n",
       "      <td>-0.099950</td>\n",
       "      <td>-0.027698</td>\n",
       "      <td>0.011015</td>\n",
       "      <td>0.001189</td>\n",
       "    </tr>\n",
       "    <tr>\n",
       "      <th>Pressure _sensor_3</th>\n",
       "      <td>0.199811</td>\n",
       "      <td>0.583086</td>\n",
       "      <td>0.362688</td>\n",
       "      <td>-0.070547</td>\n",
       "      <td>-0.118713</td>\n",
       "      <td>0.091341</td>\n",
       "      <td>1.000000</td>\n",
       "      <td>0.001591</td>\n",
       "      <td>0.016497</td>\n",
       "      <td>0.029766</td>\n",
       "      <td>0.019993</td>\n",
       "      <td>0.105642</td>\n",
       "    </tr>\n",
       "    <tr>\n",
       "      <th>Pressure _sensor_4</th>\n",
       "      <td>0.406382</td>\n",
       "      <td>0.136380</td>\n",
       "      <td>0.062479</td>\n",
       "      <td>0.823637</td>\n",
       "      <td>0.131136</td>\n",
       "      <td>0.571403</td>\n",
       "      <td>0.001591</td>\n",
       "      <td>1.000000</td>\n",
       "      <td>-0.112696</td>\n",
       "      <td>0.010560</td>\n",
       "      <td>0.191842</td>\n",
       "      <td>0.047000</td>\n",
       "    </tr>\n",
       "    <tr>\n",
       "      <th>Vibration_sensor_1</th>\n",
       "      <td>-0.152247</td>\n",
       "      <td>-0.119142</td>\n",
       "      <td>-0.249057</td>\n",
       "      <td>-0.114117</td>\n",
       "      <td>0.101438</td>\n",
       "      <td>-0.099950</td>\n",
       "      <td>0.016497</td>\n",
       "      <td>-0.112696</td>\n",
       "      <td>1.000000</td>\n",
       "      <td>-0.045857</td>\n",
       "      <td>-0.076277</td>\n",
       "      <td>0.026480</td>\n",
       "    </tr>\n",
       "    <tr>\n",
       "      <th>Vibration_sensor_2</th>\n",
       "      <td>-0.003684</td>\n",
       "      <td>0.011013</td>\n",
       "      <td>-0.038320</td>\n",
       "      <td>0.043383</td>\n",
       "      <td>-0.035196</td>\n",
       "      <td>-0.027698</td>\n",
       "      <td>0.029766</td>\n",
       "      <td>0.010560</td>\n",
       "      <td>-0.045857</td>\n",
       "      <td>1.000000</td>\n",
       "      <td>0.103704</td>\n",
       "      <td>-0.023290</td>\n",
       "    </tr>\n",
       "    <tr>\n",
       "      <th>Vibration_sensor_3</th>\n",
       "      <td>0.106583</td>\n",
       "      <td>0.243242</td>\n",
       "      <td>0.215811</td>\n",
       "      <td>0.330499</td>\n",
       "      <td>-0.084575</td>\n",
       "      <td>0.011015</td>\n",
       "      <td>0.019993</td>\n",
       "      <td>0.191842</td>\n",
       "      <td>-0.076277</td>\n",
       "      <td>0.103704</td>\n",
       "      <td>1.000000</td>\n",
       "      <td>-0.015536</td>\n",
       "    </tr>\n",
       "    <tr>\n",
       "      <th>Vibration_sensor_4</th>\n",
       "      <td>0.014177</td>\n",
       "      <td>0.058244</td>\n",
       "      <td>-0.023962</td>\n",
       "      <td>-0.018193</td>\n",
       "      <td>-0.125128</td>\n",
       "      <td>0.001189</td>\n",
       "      <td>0.105642</td>\n",
       "      <td>0.047000</td>\n",
       "      <td>0.026480</td>\n",
       "      <td>-0.023290</td>\n",
       "      <td>-0.015536</td>\n",
       "      <td>1.000000</td>\n",
       "    </tr>\n",
       "  </tbody>\n",
       "</table>\n",
       "</div>"
      ],
      "text/plain": [
       "                       Power_range_sensor_1  Power_range_sensor_2  \\\n",
       "Power_range_sensor_1               1.000000              0.095235   \n",
       "Power_range_sensor_2               0.095235              1.000000   \n",
       "Power_range_sensor_3               0.229943              0.693818   \n",
       "Power_range_sensor_4               0.499795              0.228438   \n",
       "Pressure _sensor_1                 0.047805             -0.222160   \n",
       "Pressure _sensor_2                 0.652081              0.112438   \n",
       "Pressure _sensor_3                 0.199811              0.583086   \n",
       "Pressure _sensor_4                 0.406382              0.136380   \n",
       "Vibration_sensor_1                -0.152247             -0.119142   \n",
       "Vibration_sensor_2                -0.003684              0.011013   \n",
       "Vibration_sensor_3                 0.106583              0.243242   \n",
       "Vibration_sensor_4                 0.014177              0.058244   \n",
       "\n",
       "                       Power_range_sensor_3   Power_range_sensor_4  \\\n",
       "Power_range_sensor_1                0.229943              0.499795   \n",
       "Power_range_sensor_2                0.693818              0.228438   \n",
       "Power_range_sensor_3                1.000000              0.083362   \n",
       "Power_range_sensor_4                0.083362              1.000000   \n",
       "Pressure _sensor_1                 -0.255865              0.150635   \n",
       "Pressure _sensor_2                  0.166549              0.567705   \n",
       "Pressure _sensor_3                  0.362688             -0.070547   \n",
       "Pressure _sensor_4                  0.062479              0.823637   \n",
       "Vibration_sensor_1                 -0.249057             -0.114117   \n",
       "Vibration_sensor_2                 -0.038320              0.043383   \n",
       "Vibration_sensor_3                  0.215811              0.330499   \n",
       "Vibration_sensor_4                 -0.023962             -0.018193   \n",
       "\n",
       "                       Pressure _sensor_1  Pressure _sensor_2  \\\n",
       "Power_range_sensor_1             0.047805            0.652081   \n",
       "Power_range_sensor_2            -0.222160            0.112438   \n",
       "Power_range_sensor_3            -0.255865            0.166549   \n",
       "Power_range_sensor_4             0.150635            0.567705   \n",
       "Pressure _sensor_1               1.000000            0.116859   \n",
       "Pressure _sensor_2               0.116859            1.000000   \n",
       "Pressure _sensor_3              -0.118713            0.091341   \n",
       "Pressure _sensor_4               0.131136            0.571403   \n",
       "Vibration_sensor_1               0.101438           -0.099950   \n",
       "Vibration_sensor_2              -0.035196           -0.027698   \n",
       "Vibration_sensor_3              -0.084575            0.011015   \n",
       "Vibration_sensor_4              -0.125128            0.001189   \n",
       "\n",
       "                       Pressure _sensor_3  Pressure _sensor_4  \\\n",
       "Power_range_sensor_1             0.199811            0.406382   \n",
       "Power_range_sensor_2             0.583086            0.136380   \n",
       "Power_range_sensor_3             0.362688            0.062479   \n",
       "Power_range_sensor_4            -0.070547            0.823637   \n",
       "Pressure _sensor_1              -0.118713            0.131136   \n",
       "Pressure _sensor_2               0.091341            0.571403   \n",
       "Pressure _sensor_3               1.000000            0.001591   \n",
       "Pressure _sensor_4               0.001591            1.000000   \n",
       "Vibration_sensor_1               0.016497           -0.112696   \n",
       "Vibration_sensor_2               0.029766            0.010560   \n",
       "Vibration_sensor_3               0.019993            0.191842   \n",
       "Vibration_sensor_4               0.105642            0.047000   \n",
       "\n",
       "                       Vibration_sensor_1  Vibration_sensor_2  \\\n",
       "Power_range_sensor_1            -0.152247           -0.003684   \n",
       "Power_range_sensor_2            -0.119142            0.011013   \n",
       "Power_range_sensor_3            -0.249057           -0.038320   \n",
       "Power_range_sensor_4            -0.114117            0.043383   \n",
       "Pressure _sensor_1               0.101438           -0.035196   \n",
       "Pressure _sensor_2              -0.099950           -0.027698   \n",
       "Pressure _sensor_3               0.016497            0.029766   \n",
       "Pressure _sensor_4              -0.112696            0.010560   \n",
       "Vibration_sensor_1               1.000000           -0.045857   \n",
       "Vibration_sensor_2              -0.045857            1.000000   \n",
       "Vibration_sensor_3              -0.076277            0.103704   \n",
       "Vibration_sensor_4               0.026480           -0.023290   \n",
       "\n",
       "                       Vibration_sensor_3  Vibration_sensor_4  \n",
       "Power_range_sensor_1             0.106583            0.014177  \n",
       "Power_range_sensor_2             0.243242            0.058244  \n",
       "Power_range_sensor_3             0.215811           -0.023962  \n",
       "Power_range_sensor_4             0.330499           -0.018193  \n",
       "Pressure _sensor_1              -0.084575           -0.125128  \n",
       "Pressure _sensor_2               0.011015            0.001189  \n",
       "Pressure _sensor_3               0.019993            0.105642  \n",
       "Pressure _sensor_4               0.191842            0.047000  \n",
       "Vibration_sensor_1              -0.076277            0.026480  \n",
       "Vibration_sensor_2               0.103704           -0.023290  \n",
       "Vibration_sensor_3               1.000000           -0.015536  \n",
       "Vibration_sensor_4              -0.015536            1.000000  "
      ]
     },
     "execution_count": 61,
     "metadata": {},
     "output_type": "execute_result"
    }
   ],
   "source": [
    "#Task 3 - Correlation Matrix\n",
    "CorrMat = nPS_pd.corr()\n",
    "CorrMat"
   ]
  },
  {
   "cell_type": "code",
   "execution_count": null,
   "id": "13989e57",
   "metadata": {},
   "outputs": [],
   "source": [
    "#Task 4 - Shuffling the data (70% training set & 30% test set)\n"
   ]
  },
  {
   "cell_type": "code",
   "execution_count": 6,
   "id": "e6ac2124",
   "metadata": {},
   "outputs": [
    {
     "name": "stdout",
     "output_type": "stream",
     "text": [
      "Requirement already satisfied: matplotlib in c:\\programdata\\anaconda3\\envs\\sparky\\lib\\site-packages (3.5.1)\n",
      "Requirement already satisfied: fonttools>=4.22.0 in c:\\programdata\\anaconda3\\envs\\sparky\\lib\\site-packages (from matplotlib) (4.29.0)\n",
      "Requirement already satisfied: kiwisolver>=1.0.1 in c:\\programdata\\anaconda3\\envs\\sparky\\lib\\site-packages (from matplotlib) (1.3.2)\n",
      "Requirement already satisfied: numpy>=1.17 in c:\\programdata\\anaconda3\\envs\\sparky\\lib\\site-packages (from matplotlib) (1.22.1)\n",
      "Requirement already satisfied: python-dateutil>=2.7 in c:\\programdata\\anaconda3\\envs\\sparky\\lib\\site-packages (from matplotlib) (2.8.2)\n",
      "Requirement already satisfied: pillow>=6.2.0 in c:\\programdata\\anaconda3\\envs\\sparky\\lib\\site-packages (from matplotlib) (9.0.0)\n",
      "Requirement already satisfied: pyparsing>=2.2.1 in c:\\programdata\\anaconda3\\envs\\sparky\\lib\\site-packages (from matplotlib) (2.4.7)\n",
      "Requirement already satisfied: packaging>=20.0 in c:\\programdata\\anaconda3\\envs\\sparky\\lib\\site-packages (from matplotlib) (21.0)\n",
      "Requirement already satisfied: cycler>=0.10 in c:\\programdata\\anaconda3\\envs\\sparky\\lib\\site-packages (from matplotlib) (0.11.0)\n",
      "Requirement already satisfied: six>=1.5 in c:\\programdata\\anaconda3\\envs\\sparky\\lib\\site-packages (from python-dateutil>=2.7->matplotlib) (1.16.0)\n",
      "Collecting pandas\n",
      "  Downloading pandas-1.4.0-cp38-cp38-win_amd64.whl (10.6 MB)\n",
      "Requirement already satisfied: python-dateutil>=2.8.1 in c:\\programdata\\anaconda3\\envs\\sparky\\lib\\site-packages (from pandas) (2.8.2)\n",
      "Collecting pytz>=2020.1\n",
      "  Downloading pytz-2021.3-py2.py3-none-any.whl (503 kB)\n",
      "Requirement already satisfied: numpy>=1.18.5 in c:\\programdata\\anaconda3\\envs\\sparky\\lib\\site-packages (from pandas) (1.22.1)\n",
      "Requirement already satisfied: six>=1.5 in c:\\programdata\\anaconda3\\envs\\sparky\\lib\\site-packages (from python-dateutil>=2.8.1->pandas) (1.16.0)\n",
      "Installing collected packages: pytz, pandas\n",
      "Successfully installed pandas-1.4.0 pytz-2021.3\n"
     ]
    }
   ],
   "source": [
    "!pip install matplotlib\n",
    "!pip install pandas"
   ]
  }
 ],
 "metadata": {
  "kernelspec": {
   "display_name": "Python 3",
   "language": "python",
   "name": "python3"
  },
  "language_info": {
   "codemirror_mode": {
    "name": "ipython",
    "version": 3
   },
   "file_extension": ".py",
   "mimetype": "text/x-python",
   "name": "python",
   "nbconvert_exporter": "python",
   "pygments_lexer": "ipython3",
   "version": "3.8.8"
  }
 },
 "nbformat": 4,
 "nbformat_minor": 5
}
